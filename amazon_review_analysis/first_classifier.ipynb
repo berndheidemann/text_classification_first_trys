{
 "cells": [
  {
   "cell_type": "code",
   "execution_count": 3,
   "metadata": {},
   "outputs": [
    {
     "data": {
      "text/html": [
       "<div>\n",
       "<style scoped>\n",
       "    .dataframe tbody tr th:only-of-type {\n",
       "        vertical-align: middle;\n",
       "    }\n",
       "\n",
       "    .dataframe tbody tr th {\n",
       "        vertical-align: top;\n",
       "    }\n",
       "\n",
       "    .dataframe thead th {\n",
       "        text-align: right;\n",
       "    }\n",
       "</style>\n",
       "<table border=\"1\" class=\"dataframe\">\n",
       "  <thead>\n",
       "    <tr style=\"text-align: right;\">\n",
       "      <th></th>\n",
       "      <th>Unnamed: 0</th>\n",
       "      <th>web-scraper-order</th>\n",
       "      <th>web-scraper-start-url</th>\n",
       "      <th>author</th>\n",
       "      <th>title</th>\n",
       "      <th>date</th>\n",
       "      <th>content</th>\n",
       "      <th>rating</th>\n",
       "      <th>next</th>\n",
       "      <th>next-href</th>\n",
       "      <th>Unnamed: 9</th>\n",
       "    </tr>\n",
       "  </thead>\n",
       "  <tbody>\n",
       "    <tr>\n",
       "      <th>0</th>\n",
       "      <td>0</td>\n",
       "      <td>1582056286-2631</td>\n",
       "      <td>https://www.amazon.de/Apple-iPhone-11-128-GB-S...</td>\n",
       "      <td>MHS</td>\n",
       "      <td>Das Beste iPhone aller Zeiten</td>\n",
       "      <td>5. Januar 2020</td>\n",
       "      <td>Ich bin sehr zufrieden mit dem iPhone 11. Der ...</td>\n",
       "      <td>5,0 von 5 Sternen</td>\n",
       "      <td>Weiter→</td>\n",
       "      <td>https://www.amazon.de/Apple-iPhone-11-128-GB-S...</td>\n",
       "      <td>NaN</td>\n",
       "    </tr>\n",
       "    <tr>\n",
       "      <th>1</th>\n",
       "      <td>1</td>\n",
       "      <td>1582056184-2351</td>\n",
       "      <td>https://www.amazon.de/Apple-iPhone-11-128-GB-S...</td>\n",
       "      <td>Amazon Customer</td>\n",
       "      <td>besser als beim hersteller</td>\n",
       "      <td>21. September 2019</td>\n",
       "      <td>gestern bestellt, heute geliefert. besser geht...</td>\n",
       "      <td>5,0 von 5 Sternen</td>\n",
       "      <td>NaN</td>\n",
       "      <td>NaN</td>\n",
       "      <td>NaN</td>\n",
       "    </tr>\n",
       "    <tr>\n",
       "      <th>2</th>\n",
       "      <td>2</td>\n",
       "      <td>1582056243-2561</td>\n",
       "      <td>https://www.amazon.de/Apple-iPhone-11-128-GB-S...</td>\n",
       "      <td>Joko Müller</td>\n",
       "      <td>Gutes Handy mit kleinen Schwächen</td>\n",
       "      <td>27. Oktober 2019</td>\n",
       "      <td>Ich mach es mal kurz:\\nGut: Optik, Verarbeitun...</td>\n",
       "      <td>4,0 von 5 Sternen</td>\n",
       "      <td>Weiter→</td>\n",
       "      <td>https://www.amazon.de/Apple-iPhone-11-128-GB-S...</td>\n",
       "      <td>NaN</td>\n",
       "    </tr>\n",
       "    <tr>\n",
       "      <th>3</th>\n",
       "      <td>3</td>\n",
       "      <td>1582056201-2410</td>\n",
       "      <td>https://www.amazon.de/Apple-iPhone-11-128-GB-S...</td>\n",
       "      <td>Davorko</td>\n",
       "      <td>Ein sehr edles Stück dieses IPHONE 11</td>\n",
       "      <td>2. Januar 2020</td>\n",
       "      <td>Amazon hat wieder super-schnell geliefert. Dan...</td>\n",
       "      <td>5,0 von 5 Sternen</td>\n",
       "      <td>Weiter→</td>\n",
       "      <td>https://www.amazon.de/Apple-iPhone-11-128-GB-S...</td>\n",
       "      <td>NaN</td>\n",
       "    </tr>\n",
       "    <tr>\n",
       "      <th>4</th>\n",
       "      <td>4</td>\n",
       "      <td>1582056246-2585</td>\n",
       "      <td>https://www.amazon.de/Apple-iPhone-11-128-GB-S...</td>\n",
       "      <td>Chiara Natalia Sozzi</td>\n",
       "      <td>Super</td>\n",
       "      <td>18. Oktober 2019</td>\n",
       "      <td>Viel früher angekommen als angegeben, tolles H...</td>\n",
       "      <td>5,0 von 5 Sternen</td>\n",
       "      <td>Weiter→</td>\n",
       "      <td>https://www.amazon.de/Apple-iPhone-11-128-GB-S...</td>\n",
       "      <td>NaN</td>\n",
       "    </tr>\n",
       "  </tbody>\n",
       "</table>\n",
       "</div>"
      ],
      "text/plain": [
       "   Unnamed: 0 web-scraper-order  \\\n",
       "0           0   1582056286-2631   \n",
       "1           1   1582056184-2351   \n",
       "2           2   1582056243-2561   \n",
       "3           3   1582056201-2410   \n",
       "4           4   1582056246-2585   \n",
       "\n",
       "                               web-scraper-start-url                author  \\\n",
       "0  https://www.amazon.de/Apple-iPhone-11-128-GB-S...                   MHS   \n",
       "1  https://www.amazon.de/Apple-iPhone-11-128-GB-S...       Amazon Customer   \n",
       "2  https://www.amazon.de/Apple-iPhone-11-128-GB-S...           Joko Müller   \n",
       "3  https://www.amazon.de/Apple-iPhone-11-128-GB-S...               Davorko   \n",
       "4  https://www.amazon.de/Apple-iPhone-11-128-GB-S...  Chiara Natalia Sozzi   \n",
       "\n",
       "                                   title                date  \\\n",
       "0          Das Beste iPhone aller Zeiten      5. Januar 2020   \n",
       "1             besser als beim hersteller  21. September 2019   \n",
       "2      Gutes Handy mit kleinen Schwächen    27. Oktober 2019   \n",
       "3  Ein sehr edles Stück dieses IPHONE 11      2. Januar 2020   \n",
       "4                                  Super    18. Oktober 2019   \n",
       "\n",
       "                                             content             rating  \\\n",
       "0  Ich bin sehr zufrieden mit dem iPhone 11. Der ...  5,0 von 5 Sternen   \n",
       "1  gestern bestellt, heute geliefert. besser geht...  5,0 von 5 Sternen   \n",
       "2  Ich mach es mal kurz:\\nGut: Optik, Verarbeitun...  4,0 von 5 Sternen   \n",
       "3  Amazon hat wieder super-schnell geliefert. Dan...  5,0 von 5 Sternen   \n",
       "4  Viel früher angekommen als angegeben, tolles H...  5,0 von 5 Sternen   \n",
       "\n",
       "      next                                          next-href  Unnamed: 9  \n",
       "0  Weiter→  https://www.amazon.de/Apple-iPhone-11-128-GB-S...         NaN  \n",
       "1      NaN                                                NaN         NaN  \n",
       "2  Weiter→  https://www.amazon.de/Apple-iPhone-11-128-GB-S...         NaN  \n",
       "3  Weiter→  https://www.amazon.de/Apple-iPhone-11-128-GB-S...         NaN  \n",
       "4  Weiter→  https://www.amazon.de/Apple-iPhone-11-128-GB-S...         NaN  "
      ]
     },
     "execution_count": 3,
     "metadata": {},
     "output_type": "execute_result"
    }
   ],
   "source": [
    "# Quelle: https://pytorch.org/tutorials/beginner/text_sentiment_ngrams_tutorial.html\n",
    "# pip install torchtext\n",
    "# pip install spacy\n",
    "# python -m spacy download de\n",
    "# pip install torch\n",
    "\n",
    "\n",
    "import pandas as pd\n",
    "\n",
    "df=pd.read_csv(\"Amazon-Deutsch-Dataset.csv\")\n",
    "df.head()\n"
   ]
  },
  {
   "cell_type": "code",
   "execution_count": 4,
   "metadata": {},
   "outputs": [
    {
     "data": {
      "text/html": [
       "<div>\n",
       "<style scoped>\n",
       "    .dataframe tbody tr th:only-of-type {\n",
       "        vertical-align: middle;\n",
       "    }\n",
       "\n",
       "    .dataframe tbody tr th {\n",
       "        vertical-align: top;\n",
       "    }\n",
       "\n",
       "    .dataframe thead th {\n",
       "        text-align: right;\n",
       "    }\n",
       "</style>\n",
       "<table border=\"1\" class=\"dataframe\">\n",
       "  <thead>\n",
       "    <tr style=\"text-align: right;\">\n",
       "      <th></th>\n",
       "      <th>content</th>\n",
       "      <th>rating</th>\n",
       "    </tr>\n",
       "  </thead>\n",
       "  <tbody>\n",
       "    <tr>\n",
       "      <th>0</th>\n",
       "      <td>Ich bin sehr zufrieden mit dem iPhone 11. Der ...</td>\n",
       "      <td>5,0 von 5 Sternen</td>\n",
       "    </tr>\n",
       "    <tr>\n",
       "      <th>1</th>\n",
       "      <td>gestern bestellt, heute geliefert. besser geht...</td>\n",
       "      <td>5,0 von 5 Sternen</td>\n",
       "    </tr>\n",
       "    <tr>\n",
       "      <th>2</th>\n",
       "      <td>Ich mach es mal kurz:\\nGut: Optik, Verarbeitun...</td>\n",
       "      <td>4,0 von 5 Sternen</td>\n",
       "    </tr>\n",
       "    <tr>\n",
       "      <th>3</th>\n",
       "      <td>Amazon hat wieder super-schnell geliefert. Dan...</td>\n",
       "      <td>5,0 von 5 Sternen</td>\n",
       "    </tr>\n",
       "    <tr>\n",
       "      <th>4</th>\n",
       "      <td>Viel früher angekommen als angegeben, tolles H...</td>\n",
       "      <td>5,0 von 5 Sternen</td>\n",
       "    </tr>\n",
       "  </tbody>\n",
       "</table>\n",
       "</div>"
      ],
      "text/plain": [
       "                                             content             rating\n",
       "0  Ich bin sehr zufrieden mit dem iPhone 11. Der ...  5,0 von 5 Sternen\n",
       "1  gestern bestellt, heute geliefert. besser geht...  5,0 von 5 Sternen\n",
       "2  Ich mach es mal kurz:\\nGut: Optik, Verarbeitun...  4,0 von 5 Sternen\n",
       "3  Amazon hat wieder super-schnell geliefert. Dan...  5,0 von 5 Sternen\n",
       "4  Viel früher angekommen als angegeben, tolles H...  5,0 von 5 Sternen"
      ]
     },
     "execution_count": 4,
     "metadata": {},
     "output_type": "execute_result"
    }
   ],
   "source": [
    "# uns interessiert erstmal nur content und rating als Zahl\n",
    "df = df[[\"content\", \"rating\"]]\n",
    "df.head()"
   ]
  },
  {
   "cell_type": "code",
   "execution_count": 5,
   "metadata": {},
   "outputs": [
    {
     "data": {
      "text/html": [
       "<div>\n",
       "<style scoped>\n",
       "    .dataframe tbody tr th:only-of-type {\n",
       "        vertical-align: middle;\n",
       "    }\n",
       "\n",
       "    .dataframe tbody tr th {\n",
       "        vertical-align: top;\n",
       "    }\n",
       "\n",
       "    .dataframe thead th {\n",
       "        text-align: right;\n",
       "    }\n",
       "</style>\n",
       "<table border=\"1\" class=\"dataframe\">\n",
       "  <thead>\n",
       "    <tr style=\"text-align: right;\">\n",
       "      <th></th>\n",
       "      <th>content</th>\n",
       "      <th>rating</th>\n",
       "    </tr>\n",
       "  </thead>\n",
       "  <tbody>\n",
       "    <tr>\n",
       "      <th>0</th>\n",
       "      <td>Ich bin sehr zufrieden mit dem iPhone 11. Der ...</td>\n",
       "      <td>5</td>\n",
       "    </tr>\n",
       "    <tr>\n",
       "      <th>1</th>\n",
       "      <td>gestern bestellt, heute geliefert. besser geht...</td>\n",
       "      <td>5</td>\n",
       "    </tr>\n",
       "    <tr>\n",
       "      <th>2</th>\n",
       "      <td>Ich mach es mal kurz:\\nGut: Optik, Verarbeitun...</td>\n",
       "      <td>4</td>\n",
       "    </tr>\n",
       "    <tr>\n",
       "      <th>3</th>\n",
       "      <td>Amazon hat wieder super-schnell geliefert. Dan...</td>\n",
       "      <td>5</td>\n",
       "    </tr>\n",
       "    <tr>\n",
       "      <th>4</th>\n",
       "      <td>Viel früher angekommen als angegeben, tolles H...</td>\n",
       "      <td>5</td>\n",
       "    </tr>\n",
       "  </tbody>\n",
       "</table>\n",
       "</div>"
      ],
      "text/plain": [
       "                                             content rating\n",
       "0  Ich bin sehr zufrieden mit dem iPhone 11. Der ...      5\n",
       "1  gestern bestellt, heute geliefert. besser geht...      5\n",
       "2  Ich mach es mal kurz:\\nGut: Optik, Verarbeitun...      4\n",
       "3  Amazon hat wieder super-schnell geliefert. Dan...      5\n",
       "4  Viel früher angekommen als angegeben, tolles H...      5"
      ]
     },
     "execution_count": 5,
     "metadata": {},
     "output_type": "execute_result"
    }
   ],
   "source": [
    "df.rating= df.rating.str[0]\n",
    "df.head()"
   ]
  },
  {
   "cell_type": "code",
   "execution_count": 6,
   "metadata": {},
   "outputs": [
    {
     "data": {
      "text/plain": [
       "<AxesSubplot: >"
      ]
     },
     "execution_count": 6,
     "metadata": {},
     "output_type": "execute_result"
    },
    {
     "data": {
      "image/png": "[encoded data removed]",
      "text/plain": [
       "<Figure size 640x480 with 1 Axes>"
      ]
     },
     "metadata": {},
     "output_type": "display_data"
    }
   ],
   "source": [
    "df.rating.hist()"
   ]
  },
  {
   "cell_type": "code",
   "execution_count": 7,
   "metadata": {},
   "outputs": [
    {
     "name": "stdout",
     "output_type": "stream",
     "text": [
      "<class 'pandas.core.frame.DataFrame'>\n",
      "RangeIndex: 3413 entries, 0 to 3412\n",
      "Data columns (total 2 columns):\n",
      " #   Column   Non-Null Count  Dtype \n",
      "---  ------   --------------  ----- \n",
      " 0   content  3409 non-null   object\n",
      " 1   rating   3409 non-null   object\n",
      "dtypes: object(2)\n",
      "memory usage: 53.5+ KB\n"
     ]
    }
   ],
   "source": [
    "df.info()"
   ]
  },
  {
   "cell_type": "code",
   "execution_count": 8,
   "metadata": {},
   "outputs": [],
   "source": [
    "# remove rows with missing values\n",
    "df = df.dropna()"
   ]
  },
  {
   "cell_type": "code",
   "execution_count": 10,
   "metadata": {},
   "outputs": [
    {
     "name": "stderr",
     "output_type": "stream",
     "text": [
      "/home/codespace/.local/lib/python3.10/site-packages/tqdm/auto.py:22: TqdmWarning: IProgress not found. Please update jupyter and ipywidgets. See https://ipywidgets.readthedocs.io/en/stable/user_install.html\n",
      "  from .autonotebook import tqdm as notebook_tqdm\n"
     ]
    }
   ],
   "source": [
    "from torchtext.data.utils import get_tokenizer\n",
    "from torchtext.vocab import build_vocab_from_iterator"
   ]
  },
  {
   "cell_type": "code",
   "execution_count": null,
   "metadata": {},
   "outputs": [],
   "source": [
    "tokenizer = get_tokenizer('spacy', language='de_core_news_sm')\n",
    "\n",
    "# create iterator from tokenized df\n",
    "def df_iterator_content(df):\n",
    "    for _, row in df.iterrows():\n",
    "        yield tokenizer(row['content'])\n"
   ]
  },
  {
   "cell_type": "code",
   "execution_count": null,
   "metadata": {},
   "outputs": [],
   "source": [
    "vocab = build_vocab_from_iterator(df_iterator_content(df), specials=[\"<unk>\"])\n",
    "vocab.set_default_index(vocab[\"<unk>\"])"
   ]
  },
  {
   "cell_type": "code",
   "execution_count": null,
   "metadata": {},
   "outputs": [
    {
     "data": {
      "text/plain": [
       "[1029, 3019, 0, 806]"
      ]
     },
     "execution_count": 20,
     "metadata": {},
     "output_type": "execute_result"
    }
   ],
   "source": [
    "vocab(['Hallo', 'Welt', 'Foo', 'Iphone'])"
   ]
  },
  {
   "cell_type": "code",
   "execution_count": null,
   "metadata": {},
   "outputs": [],
   "source": [
    "def text_pipeline(x):                           # die benutzen wir später um Text in Vektoren zu übersetzen\n",
    "    return vocab(tokenizer(x))   \n",
    "    \n",
    "label_pipeline = lambda x: int(x) - 1           # (andere Schreibweise) die ratings liegen als Text vor und gehen von 1 bis 5. Daher -1"
   ]
  },
  {
   "cell_type": "code",
   "execution_count": null,
   "metadata": {},
   "outputs": [
    {
     "data": {
      "text/plain": [
       "[32, 1131, 1026, 2, 36, 8268]"
      ]
     },
     "execution_count": 22,
     "metadata": {},
     "output_type": "execute_result"
    }
   ],
   "source": [
    "text_pipeline('Die letzte Bestellung, war fehlerhaft') # Beispiel"
   ]
  },
  {
   "cell_type": "code",
   "execution_count": null,
   "metadata": {},
   "outputs": [
    {
     "data": {
      "text/plain": [
       "(tensor([4, 2]),\n",
       " tensor([  28,  212,  472,    6,  122,  656,   18,   18,  778,    0,    6,   61,\n",
       "          145, 2043,    2,   26,  146,  129]),\n",
       " tensor([0, 8]))"
      ]
     },
     "execution_count": 24,
     "metadata": {},
     "output_type": "execute_result"
    }
   ],
   "source": [
    "from torch.utils.data import DataLoader\n",
    "import torch\n",
    "device = torch.device(\"cuda\" if torch.cuda.is_available() else \"cpu\")\n",
    "\n",
    "def collate_batch(batch):\n",
    "    '''\n",
    "    Extrahiert aus einer Batch von Text die Labels und die Texte und übersetzt diese in Vektoren(Zahlen-Arrays) mittels text_pipeline und label_pipeline\n",
    "    '''\n",
    "    label_list, text_list, offsets = [], [], [0]\n",
    "    for (_text, _label) in batch:\n",
    "         label_list.append(label_pipeline(_label))\n",
    "         processed_text = torch.tensor(text_pipeline(_text), dtype=torch.int64)\n",
    "         text_list.append(processed_text)\n",
    "         offsets.append(processed_text.size(0))\n",
    "    label_list = torch.tensor(label_list, dtype=torch.int64)\n",
    "    offsets = torch.tensor(offsets[:-1]).cumsum(dim=0)\n",
    "    text_list = torch.cat(text_list)\n",
    "    return label_list.to(device), text_list.to(device), offsets.to(device)\n",
    "\n",
    "# check if collate_batch works\n",
    "collate_batch([(\"Das neue IPhone ist wirklich toll!!\", \"5\"), (\"FritzBox 7830 ist schon ganz nett, aber geht besser\", \"3\")])"
   ]
  },
  {
   "cell_type": "code",
   "execution_count": null,
   "metadata": {},
   "outputs": [],
   "source": [
    "from torch import nn\n",
    "\n",
    "class TextClassificationModel(nn.Module):\n",
    "\n",
    "    def __init__(self, vocab_size, embed_dim, num_class):\n",
    "        super(TextClassificationModel, self).__init__()\n",
    "        self.embedding = nn.EmbeddingBag(vocab_size, embed_dim, sparse=True)\n",
    "        self.fc = nn.Linear(embed_dim, num_class)\n",
    "        self.init_weights()\n",
    "\n",
    "    def init_weights(self):\n",
    "        initrange = 0.5\n",
    "        self.embedding.weight.data.uniform_(-initrange, initrange)\n",
    "        self.fc.weight.data.uniform_(-initrange, initrange)\n",
    "        self.fc.bias.data.zero_()\n",
    "\n",
    "    def forward(self, text, offsets):\n",
    "        embedded = self.embedding(text, offsets)\n",
    "        return self.fc(embedded)"
   ]
  },
  {
   "cell_type": "code",
   "execution_count": null,
   "metadata": {},
   "outputs": [],
   "source": [
    "num_class = df[\"rating\"].nunique()\n",
    "vocab_size = len(vocab)\n",
    "emsize = 64"
   ]
  },
  {
   "cell_type": "code",
   "execution_count": null,
   "metadata": {},
   "outputs": [],
   "source": [
    "import time\n",
    "\n",
    "\n",
    "\n",
    "def evaluate(model, dataloader):\n",
    "    model.eval()\n",
    "    total_acc, total_count = 0, 0\n",
    "    with torch.no_grad():\n",
    "        for idx, (label, text, offsets) in enumerate(dataloader):\n",
    "            predicted_label = model(text, offsets)\n",
    "            total_acc += (predicted_label.argmax(1) == label).sum().item()\n",
    "            total_count += label.size(0)\n",
    "    return total_acc/total_count"
   ]
  },
  {
   "cell_type": "code",
   "execution_count": null,
   "metadata": {},
   "outputs": [],
   "source": [
    "from torch.utils.data.dataset import random_split\n",
    "\n",
    "train_dataset=df[['content', 'rating']].values;\n",
    "\n",
    "num_train = int(len(train_dataset) * 0.95)\n",
    "split_train_, split_valid_ = \\\n",
    "    random_split(train_dataset, [num_train, len(train_dataset) - num_train])"
   ]
  },
  {
   "cell_type": "code",
   "execution_count": null,
   "metadata": {},
   "outputs": [
    {
     "name": "stdout",
     "output_type": "stream",
     "text": [
      "-----------------------------------------------------------\n",
      "| end of epoch   1 | time:  2.76s | train accuracy    0.476 | valid accuracy    0.474 | lr: 5.00\n",
      "-----------------------------------------------------------\n",
      "| end of epoch   2 | time:  1.97s | train accuracy    0.486 | valid accuracy    0.491 | lr: 5.00\n",
      "-----------------------------------------------------------\n",
      "| end of epoch   3 | time:  1.92s | train accuracy    0.530 | valid accuracy    0.474 | lr: 5.00\n",
      "-----------------------------------------------------------\n",
      "| end of epoch   4 | time:  2.17s | train accuracy    0.605 | valid accuracy    0.538 | lr: 3.50\n",
      "-----------------------------------------------------------\n",
      "| end of epoch   5 | time:  2.14s | train accuracy    0.636 | valid accuracy    0.544 | lr: 3.50\n",
      "-----------------------------------------------------------\n",
      "| end of epoch   6 | time:  2.09s | train accuracy    0.628 | valid accuracy    0.538 | lr: 3.50\n",
      "-----------------------------------------------------------\n",
      "| end of epoch   7 | time:  1.99s | train accuracy    0.671 | valid accuracy    0.532 | lr: 2.45\n",
      "-----------------------------------------------------------\n",
      "| end of epoch   8 | time:  1.96s | train accuracy    0.679 | valid accuracy    0.526 | lr: 2.45\n",
      "-----------------------------------------------------------\n",
      "| end of epoch   9 | time:  2.11s | train accuracy    0.676 | valid accuracy    0.556 | lr: 2.45\n",
      "-----------------------------------------------------------\n",
      "| end of epoch  10 | time:  2.04s | train accuracy    0.680 | valid accuracy    0.526 | lr: 1.71\n",
      "-----------------------------------------------------------\n",
      "| end of epoch  11 | time:  1.94s | train accuracy    0.702 | valid accuracy    0.526 | lr: 1.71\n",
      "-----------------------------------------------------------\n",
      "| end of epoch  12 | time:  2.02s | train accuracy    0.712 | valid accuracy    0.520 | lr: 1.71\n",
      "-----------------------------------------------------------\n",
      "| end of epoch  13 | time:  1.91s | train accuracy    0.721 | valid accuracy    0.538 | lr: 1.20\n",
      "-----------------------------------------------------------\n",
      "| end of epoch  14 | time:  2.07s | train accuracy    0.725 | valid accuracy    0.515 | lr: 1.20\n",
      "-----------------------------------------------------------\n",
      "| end of epoch  15 | time:  1.98s | train accuracy    0.731 | valid accuracy    0.544 | lr: 1.20\n",
      "-----------------------------------------------------------\n",
      "| end of epoch  16 | time:  2.01s | train accuracy    0.740 | valid accuracy    0.538 | lr: 0.84\n",
      "-----------------------------------------------------------\n",
      "| end of epoch  17 | time:  2.08s | train accuracy    0.736 | valid accuracy    0.526 | lr: 0.84\n",
      "-----------------------------------------------------------\n",
      "| end of epoch  18 | time:  1.87s | train accuracy    0.741 | valid accuracy    0.509 | lr: 0.84\n",
      "-----------------------------------------------------------\n",
      "| end of epoch  19 | time:  2.17s | train accuracy    0.742 | valid accuracy    0.544 | lr: 0.59\n",
      "-----------------------------------------------------------\n",
      "| end of epoch  20 | time:  1.95s | train accuracy    0.746 | valid accuracy    0.509 | lr: 0.59\n",
      "-----------------------------------------------------------\n",
      "| end of epoch  21 | time:  2.14s | train accuracy    0.748 | valid accuracy    0.526 | lr: 0.59\n",
      "-----------------------------------------------------------\n",
      "| end of epoch  22 | time:  2.12s | train accuracy    0.754 | valid accuracy    0.550 | lr: 0.41\n",
      "-----------------------------------------------------------\n",
      "| end of epoch  23 | time:  1.93s | train accuracy    0.756 | valid accuracy    0.544 | lr: 0.41\n",
      "-----------------------------------------------------------\n",
      "| end of epoch  24 | time:  2.04s | train accuracy    0.754 | valid accuracy    0.544 | lr: 0.41\n",
      "-----------------------------------------------------------\n",
      "| end of epoch  25 | time:  1.95s | train accuracy    0.758 | valid accuracy    0.538 | lr: 0.29\n",
      "-----------------------------------------------------------\n",
      "| end of epoch  26 | time:  2.11s | train accuracy    0.760 | valid accuracy    0.532 | lr: 0.29\n",
      "-----------------------------------------------------------\n",
      "| end of epoch  27 | time:  2.01s | train accuracy    0.759 | valid accuracy    0.538 | lr: 0.29\n",
      "-----------------------------------------------------------\n",
      "| end of epoch  28 | time:  1.99s | train accuracy    0.761 | valid accuracy    0.526 | lr: 0.20\n",
      "-----------------------------------------------------------\n",
      "| end of epoch  29 | time:  1.98s | train accuracy    0.759 | valid accuracy    0.538 | lr: 0.20\n",
      "-----------------------------------------------------------\n",
      "| end of epoch  30 | time:  2.07s | train accuracy    0.762 | valid accuracy    0.532 | lr: 0.20\n"
     ]
    },
    {
     "data": {
      "image/png": "[encoded data removed]",
      "text/plain": [
       "<Figure size 640x480 with 1 Axes>"
      ]
     },
     "metadata": {},
     "output_type": "display_data"
    }
   ],
   "source": [
    "# Hyperparameters\n",
    "EPOCHS = 30 # epoch\n",
    "LR = 5  # learning rate\n",
    "BATCH_SIZE = 64 # batch size for training\n",
    "\n",
    "model = TextClassificationModel(vocab_size, emsize, num_class).to(device)\n",
    "\n",
    "train_dataloader = DataLoader(split_train_, batch_size=BATCH_SIZE,\n",
    "                              shuffle=True, collate_fn=collate_batch)\n",
    "\n",
    "valid_dataloader = DataLoader(split_valid_, batch_size=BATCH_SIZE,collate_fn=collate_batch)\n",
    "\n",
    "loss_func = torch.nn.CrossEntropyLoss()\n",
    "optimizer = torch.optim.SGD(model.parameters(), lr=LR)\n",
    "scheduler = torch.optim.lr_scheduler.StepLR(optimizer, 3.0, gamma=0.7)   # every 3 epochs, LR is multiplied by 0.7\n",
    "total_accu = None\n",
    "\n",
    "train_accus=[]\n",
    "valid_accus=[]\n",
    "\n",
    "\n",
    "for epoch in range(1, EPOCHS + 1):\n",
    "    epoch_start_time = time.time()\n",
    "    \n",
    "    model.train()\n",
    "    total_acc, total_count = 0, 0\n",
    "\n",
    "    for idx, (label, text, offsets) in enumerate(train_dataloader):\n",
    "        optimizer.zero_grad()\n",
    "        predicted_label = model(text, offsets)\n",
    "        loss = loss_func(predicted_label, label)\n",
    "        loss.backward()\n",
    "        # torch.nn.utils.clip_grad_norm_(model.parameters(), 0.1)\n",
    "        optimizer.step()\n",
    "\n",
    "    accu_train = evaluate(model, train_dataloader)\n",
    "    accu_valid = evaluate(model, valid_dataloader)\n",
    "    train_accus.append(accu_train)\n",
    "    valid_accus.append(accu_valid)\n",
    "    print('-' * 59)\n",
    "    print('| end of epoch {:3d} | time: {:5.2f}s | train accuracy {:8.3f} | valid accuracy {:8.3f} | lr: {:1.2f}'.format(\n",
    "                                epoch,\n",
    "                                time.time() - epoch_start_time,\n",
    "                                accu_train, \n",
    "                                accu_valid, \n",
    "                                scheduler.get_last_lr()[0]))\n",
    "\n",
    "    scheduler.step() # learning rate scheduler after each epoch\n",
    "\n",
    "\n",
    "\n",
    "import matplotlib.pyplot as plt\n",
    "plt.plot(train_accus, label='train_accu')\n",
    "plt.plot(valid_accus, label='valid_accu')\n",
    "plt.legend()\n",
    "plt.show()"
   ]
  },
  {
   "cell_type": "code",
   "execution_count": null,
   "metadata": {},
   "outputs": [
    {
     "data": {
      "text/plain": [
       "0.17543859649122806"
      ]
     },
     "execution_count": 35,
     "metadata": {},
     "output_type": "execute_result"
    }
   ],
   "source": [
    "# how much valid accuracy do we get in a new untrained model?\n",
    "new_model = TextClassificationModel(vocab_size, emsize, num_class).to(device)\n",
    "evaluate(new_model, valid_dataloader)\n"
   ]
  },
  {
   "cell_type": "code",
   "execution_count": null,
   "metadata": {},
   "outputs": [],
   "source": []
  },
  {
   "cell_type": "code",
   "execution_count": null,
   "metadata": {},
   "outputs": [],
   "source": []
  }
 ],
 "metadata": {
  "kernelspec": {
   "display_name": "Python 3 (ipykernel)",
   "language": "python",
   "name": "python3"
  },
  "orig_nbformat": 4,
  "vscode": {
   "interpreter": {
    "hash": "3ad933181bd8a04b432d3370b9dc3b0662ad032c4dfaa4e4f1596c548f763858"
   }
  }
 },
 "nbformat": 4,
 "nbformat_minor": 2
}
